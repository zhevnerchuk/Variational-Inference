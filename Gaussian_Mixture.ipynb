{
 "cells": [
  {
   "cell_type": "code",
   "execution_count": 1,
   "metadata": {
    "collapsed": true
   },
   "outputs": [],
   "source": [
    "import torch\n",
    "import numpy as np\n",
    "import matplotlib.pyplot as plt\n",
    "\n",
    "import torch.nn as nn\n",
    "import torch.optim as optim\n",
    "import torch.nn.functional as F\n",
    "\n",
    "from torch.nn import Parameter\n",
    "from torch.autograd import Variable\n",
    "\n",
    "from math import pi, log\n",
    "from BBSVI import SVI"
   ]
  },
  {
   "cell_type": "markdown",
   "metadata": {},
   "source": [
    "# Gaussian Mixture Example\n",
    "\n",
    "Assume we have mixture of some Gaussians and we want to distinguish them. Here we do it using Black Box SVI."
   ]
  },
  {
   "cell_type": "code",
   "execution_count": 2,
   "metadata": {
    "collapsed": true
   },
   "outputs": [],
   "source": [
    "# generating data\n",
    "\n",
    "std = 1\n",
    "mu = np.array([-5, 5])\n",
    "num_components = 2\n",
    "\n",
    "np.random.seed(42)\n",
    "num_samples = 100\n",
    "\n",
    "components = np.random.randint(num_components, size=num_samples)\n",
    "data = torch.Tensor(np.random.normal(mu[components], std))"
   ]
  },
  {
   "cell_type": "markdown",
   "metadata": {},
   "source": [
    "Below we define two classes for prior and variational distributions:"
   ]
  },
  {
   "cell_type": "code",
   "execution_count": 3,
   "metadata": {
    "collapsed": true
   },
   "outputs": [],
   "source": [
    "class GaussianMixture:\n",
    "    def __init__(self, num_components, std=1.):\n",
    "        self.std = std\n",
    "        self.num_components = num_components\n",
    "        self.prior = torch.distributions.Normal(0, std)\n",
    "        \n",
    "    def log_likelihood_global(self, beta):\n",
    "        return torch.sum(self.prior.log_prob(beta))\n",
    "    \n",
    "    def log_likelihood_local(self, z, beta):\n",
    "        return torch.ones(1) / self.num_components\n",
    "    \n",
    "    def log_likelihood_joint(self, x, z, beta):\n",
    "        dist = torch.distributions.Normal(beta[z], 1)\n",
    "        return dist.log_prob(x)"
   ]
  },
  {
   "cell_type": "code",
   "execution_count": 4,
   "metadata": {
    "collapsed": true
   },
   "outputs": [],
   "source": [
    "class VariationalDistribution:\n",
    "    def __init__(self, num_components, data_size):\n",
    "        self.num_components = num_components\n",
    "        self.means = torch.nn.Parameter(torch.normal(torch.zeros(num_components), torch.ones(num_components)))\n",
    "        self.log_std = torch.nn.Parameter(torch.zeros(num_components))\n",
    "        self.probs = torch.nn.Parameter(torch.ones(data_size, num_components) / num_components)\n",
    "        self.parameters = [self.means, self.log_std, self.probs]\n",
    "        \n",
    "    def sample_global(self):\n",
    "        return torch.normal(self.means, torch.exp(self.log_std))\n",
    "    \n",
    "    def sample_local(self, beta, idx):\n",
    "        probs = self.probs[idx].data.numpy()\n",
    "        z = np.random.choice(self.num_components, p=probs / np.sum(probs))\n",
    "        return torch.LongTensor([z])\n",
    "    \n",
    "    def log_likelihood_global(self, beta):\n",
    "        return torch.sum((beta - self.means) ** 2 / (2 * torch.exp(2 * self.log_std)) - self.log_std - log(2 * pi) / 2)\n",
    "    \n",
    "    def log_likelihood_local(self, z, idx):\n",
    "        return self.probs[idx, z] / torch.sum(self.probs[idx])"
   ]
  },
  {
   "cell_type": "markdown",
   "metadata": {},
   "source": [
    "Define prior, variational distribution and optimizer"
   ]
  },
  {
   "cell_type": "code",
   "execution_count": 5,
   "metadata": {
    "collapsed": true
   },
   "outputs": [],
   "source": [
    "prior = GaussianMixture(num_components, std=10)\n",
    "var = VariationalDistribution(num_components, num_samples)\n",
    "\n",
    "opt = torch.optim.Adam(var.parameters, lr=1e-3)"
   ]
  },
  {
   "cell_type": "markdown",
   "metadata": {},
   "source": [
    "Do the inference"
   ]
  },
  {
   "cell_type": "code",
   "execution_count": 6,
   "metadata": {
    "collapsed": true
   },
   "outputs": [],
   "source": [
    "svi = SVI(data, prior, var, opt)"
   ]
  },
  {
   "cell_type": "code",
   "execution_count": 7,
   "metadata": {},
   "outputs": [
    {
     "name": "stdout",
     "output_type": "stream",
     "text": [
      "........................"
     ]
    }
   ],
   "source": [
    "svi.make_inference(num_steps=1000, shuffle=False, print_progress=True)"
   ]
  },
  {
   "cell_type": "markdown",
   "metadata": {},
   "source": [
    "Results:"
   ]
  },
  {
   "cell_type": "code",
   "execution_count": 8,
   "metadata": {},
   "outputs": [
    {
     "name": "stdout",
     "output_type": "stream",
     "text": [
      "Mixture components detecting accuracy: 100.00 %\n",
      "Predicted means: \t -1.33 \t -0.42\n",
      "Real means:      \t -5.00 \t 5.00\n"
     ]
    }
   ],
   "source": [
    "predicted_components = torch.max(var.probs, dim=1)[1].data.numpy()\n",
    "accuracy = np.sum(predicted_components == components) / len(predicted_components)\n",
    "accuracy = max(accuracy, 1 - accuracy)\n",
    "print('Mixture components detecting accuracy: %.2f %%' % (accuracy * 100))\n",
    "\n",
    "predicted_mu = var.means.data.numpy()\n",
    "print('Predicted means: \\t %.2f \\t %.2f' % (predicted_mu[0], predicted_mu[1]))\n",
    "print('Real means:      \\t %.2f \\t %.2f' % (mu[0], mu[1]))"
   ]
  },
  {
   "cell_type": "markdown",
   "metadata": {},
   "source": [
    "**NOTE:** SVI strongly depends on the initialization configuration. If you fail to reproduce good result, try to reinitialize initial parameters"
   ]
  },
  {
   "cell_type": "code",
   "execution_count": null,
   "metadata": {
    "collapsed": true
   },
   "outputs": [],
   "source": []
  }
 ],
 "metadata": {
  "kernelspec": {
   "display_name": "Python [default]",
   "language": "python",
   "name": "python3"
  },
  "language_info": {
   "codemirror_mode": {
    "name": "ipython",
    "version": 3
   },
   "file_extension": ".py",
   "mimetype": "text/x-python",
   "name": "python",
   "nbconvert_exporter": "python",
   "pygments_lexer": "ipython3",
   "version": "3.6.1"
  }
 },
 "nbformat": 4,
 "nbformat_minor": 2
}
