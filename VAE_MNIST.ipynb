{
 "cells": [
  {
   "cell_type": "code",
   "execution_count": 1,
   "metadata": {
    "collapsed": true
   },
   "outputs": [],
   "source": [
    "import torch\n",
    "import numpy as np\n",
    "import matplotlib.pyplot as plt\n",
    "from torchvision.datasets import MNIST\n",
    "from torch.utils.data import TensorDataset, DataLoader\n",
    "\n",
    "\n",
    "import torch.nn as nn\n",
    "import torch.optim as optim\n",
    "import torch.nn.functional as F\n",
    "\n",
    "import torch.utils.data as data_utils\n",
    "\n",
    "from math import pi, log\n",
    "from BBSVI import SVI\n",
    "%matplotlib inline"
   ]
  },
  {
   "cell_type": "markdown",
   "metadata": {},
   "source": [
    "# Load data"
   ]
  },
  {
   "cell_type": "code",
   "execution_count": 2,
   "metadata": {},
   "outputs": [],
   "source": [
    "data = MNIST('mnist', download=True, train=True)\n",
    "train_data = TensorDataset(data.train_data.view(-1, 28 * 28).float() / 255, data.train_labels)\n",
    "data = MNIST('mnist', download=True, train=False)\n",
    "test_data = TensorDataset(data.test_data.view(-1, 28 * 28).float() / 255, data.test_labels)"
   ]
  },
  {
   "cell_type": "code",
   "execution_count": 3,
   "metadata": {},
   "outputs": [
    {
     "data": {
      "image/png": "[encoded data removed]",
      "text/plain": [
       "<matplotlib.figure.Figure at 0x7ff86cd0e278>"
      ]
     },
     "metadata": {},
     "output_type": "display_data"
    }
   ],
   "source": [
    "def show_images(x):\n",
    "    plt.figure(figsize=(12, 12 / 10 * (x.shape[0] // 10 + 1)))\n",
    "    x = x.view(-1, 28, 28)\n",
    "    for i in range(x.shape[0]):\n",
    "        plt.subplot(x.shape[0] // 10 + 1, 10, i + 1)\n",
    "        plt.imshow(x.data[i].numpy(), cmap='Greys_r', vmin=0, vmax=1, interpolation='lanczos')\n",
    "        plt.axis('off')\n",
    "\n",
    "show_images(train_data[:10][0])"
   ]
  },
  {
   "cell_type": "markdown",
   "metadata": {},
   "source": [
    "# Functions"
   ]
  },
  {
   "cell_type": "markdown",
   "metadata": {},
   "source": [
    "# Avtoencoder: "
   ]
  },
  {
   "cell_type": "code",
   "execution_count": 4,
   "metadata": {
    "collapsed": true
   },
   "outputs": [],
   "source": [
    "class Encoder(object):    \n",
    "    \n",
    "    def __init__(self, encoder_net, data):\n",
    "        '''Initialization\n",
    "        \n",
    "        Args:            \n",
    "            encoder_net: torch.nn.Network. Should be forward method, that takes data[index] \n",
    "                         and returns mu and logsigma\n",
    "            data: data, should be callable by index\n",
    "        \n",
    "        '''\n",
    "        \n",
    "        self.net = encoder_net\n",
    "        self.parameters = encoder_net.parameters\n",
    "        self.data = data\n",
    "        \n",
    "    def sample_global(self):\n",
    "        return None\n",
    "        \n",
    "    def sample_local(self, beta, idx):\n",
    "        \n",
    "        mu_idx, logsigma_idx = self.net(self.data[idx].view(1, -1))\n",
    "        sigma_idx = torch.exp(torch.clamp(logsigma_idx, -10, 10))\n",
    "        dist_idx = torch.distributions.Normal(mu_idx, sigma_idx)\n",
    "        output = dist_idx.rsample()\n",
    "\n",
    "        return output\n",
    "    "
   ]
  },
  {
   "cell_type": "code",
   "execution_count": 5,
   "metadata": {
    "collapsed": true
   },
   "outputs": [],
   "source": [
    "class Decoder(object):\n",
    "    \n",
    "    def __init__(self, decoder_net):\n",
    "        self.net = decoder_net\n",
    "        self.parameters = decoder_net.parameters\n",
    "        \n",
    "    \n",
    "    def log_likelihood_cond(self, x, z, beta):\n",
    "        mu_idx, logsigma_idx = self.net(z)\n",
    "        sigma_idx = torch.exp(torch.clamp(logsigma_idx, -10, 10))\n",
    "        dist_idx = torch.distributions.Normal(mu_idx, sigma_idx)\n",
    "        output = torch.sum(dist_idx.log_prob(x))\n",
    "\n",
    "        return output\n",
    "\n",
    "        "
   ]
  },
  {
   "cell_type": "code",
   "execution_count": 6,
   "metadata": {
    "collapsed": true
   },
   "outputs": [],
   "source": [
    "class Encoder_net(nn.Module):\n",
    "    \n",
    "    def __init__(self, D, d):\n",
    "        \n",
    "        super(Encoder_net, self).__init__()\n",
    "        \n",
    "        self.encoder = nn.Sequential(nn.Linear(D, 200),\n",
    "                                     nn.LeakyReLU(),\n",
    "                                     nn.Linear(200, 200),\n",
    "                                     nn.LeakyReLU())\n",
    "        self.encoder_mu = nn.Sequential(nn.Linear(200, d))\n",
    "        self.encoder_logsigma = nn.Sequential(nn.Linear(200, d))\n",
    "    \n",
    "    \n",
    "    def forward(self, x):\n",
    "        \n",
    "        x = self.encoder(x)\n",
    "        latent_mu, latent_logsigma = self.encoder_mu(x), self.encoder_logsigma(x)\n",
    "        \n",
    "        return latent_mu, latent_logsigma\n",
    "\n",
    "    \n",
    "class Decoder_net(nn.Module):\n",
    "    \n",
    "    def __init__(self, D, d):\n",
    "        super(Decoder_net, self).__init__()\n",
    "        \n",
    "        self.decoder = nn.Sequential(nn.Linear(d, 200),\n",
    "                                     nn.LeakyReLU(),\n",
    "                                     nn.Linear(200, 200),\n",
    "                                     nn.LeakyReLU())\n",
    "        self.decoder_mu = nn.Sequential(nn.Linear(200, D), nn.Sigmoid())\n",
    "        self.decoder_logsigma = nn.Sequential(nn.Linear(200, D))\n",
    "        \n",
    "    def forward(self, x):\n",
    "        \n",
    "        x = self.decoder(x)\n",
    "        reconstruction_mu, reconstruction_logsigma = self.decoder_mu(x), self.decoder_logsigma(x)\n",
    "        \n",
    "        return reconstruction_mu, reconstruction_logsigma"
   ]
  },
  {
   "cell_type": "code",
   "execution_count": 7,
   "metadata": {
    "collapsed": true
   },
   "outputs": [],
   "source": [
    "def kl(var, prior, batch_indices):\n",
    "    \n",
    "    kl = torch.zeros(1, requires_grad=True)\n",
    "    p = torch.distributions.Normal(torch.zeros(1), torch.ones(1))\n",
    "    \n",
    "    for idx in batch_indices:\n",
    "        mu_idx, logsigma_idx = var.net(train_data.tensors[0][idx])\n",
    "        sigma_idx = torch.exp(torch.clamp(logsigma_idx, -10, 10))\n",
    "    \n",
    "        dist_idx = torch.distributions.Normal(mu_idx, sigma_idx)\n",
    "\n",
    "        kl = kl + torch.sum(torch.distributions.kl_divergence(dist_idx, p))\n",
    "\n",
    "    kl = kl / len(batch_indices)\n",
    "    \n",
    "    return kl"
   ]
  },
  {
   "cell_type": "markdown",
   "metadata": {},
   "source": [
    "# NNs and other friends"
   ]
  },
  {
   "cell_type": "code",
   "execution_count": 8,
   "metadata": {},
   "outputs": [],
   "source": [
    "d = 2\n",
    "D = 784\n",
    "\n",
    "encoder_net = Encoder_net(D, d)\n",
    "\n",
    "decoder_net = Decoder_net(D, d)"
   ]
  },
  {
   "cell_type": "code",
   "execution_count": 9,
   "metadata": {
    "collapsed": true
   },
   "outputs": [],
   "source": [
    "num = 5"
   ]
  },
  {
   "cell_type": "code",
   "execution_count": 10,
   "metadata": {},
   "outputs": [],
   "source": [
    "encoder = Encoder(encoder_net, train_data.tensors[0][:num])\n",
    "decoder = Decoder(decoder_net)"
   ]
  },
  {
   "cell_type": "code",
   "execution_count": 11,
   "metadata": {
    "collapsed": true
   },
   "outputs": [],
   "source": [
    "opt = torch.optim.Adam([ {'params': encoder.parameters()},\n",
    "                         {'params': decoder.parameters()}\n",
    "                       ], lr = 1e-3)\n",
    "\n",
    "svi = SVI(train_data.tensors[0][:num], decoder, encoder, opt)"
   ]
  },
  {
   "cell_type": "code",
   "execution_count": 12,
   "metadata": {
    "scrolled": false
   },
   "outputs": [
    {
     "name": "stdout",
     "output_type": "stream",
     "text": [
      "...................................................................................................\n"
     ]
    }
   ],
   "source": [
    "svi.make_inference(num_steps=500, loss='kl', shuffle=False, print_progress=True, kl=kl)"
   ]
  },
  {
   "cell_type": "code",
   "execution_count": 13,
   "metadata": {},
   "outputs": [],
   "source": [
    "encoder_net.eval()\n",
    "decoder_net.eval()\n",
    "mu, _ = encoder_net(train_data.tensors[0][:num])\n",
    "X_repr, _ = decoder_net(mu)"
   ]
  },
  {
   "cell_type": "code",
   "execution_count": 14,
   "metadata": {},
   "outputs": [
    {
     "data": {
      "image/png": "[encoded data removed]",
      "text/plain": [
       "<matplotlib.figure.Figure at 0x7ff86aabe8d0>"
      ]
     },
     "metadata": {},
     "output_type": "display_data"
    }
   ],
   "source": [
    "show_images(X_repr)"
   ]
  },
  {
   "cell_type": "code",
   "execution_count": 15,
   "metadata": {},
   "outputs": [
    {
     "data": {
      "image/png": "[encoded data removed]",
      "text/plain": [
       "<matplotlib.figure.Figure at 0x7ff86aa6b7f0>"
      ]
     },
     "metadata": {},
     "output_type": "display_data"
    }
   ],
   "source": [
    "show_images(train_data.tensors[0][:num])"
   ]
  },
  {
   "cell_type": "code",
   "execution_count": 16,
   "metadata": {},
   "outputs": [
    {
     "data": {
      "text/plain": [
       "tensor([[ 8.4666e-07,  5.7002e-07,  5.7947e-08,  ...,  4.3983e-07,\n",
       "          5.2723e-07,  1.3887e-07],\n",
       "        [ 1.0095e-08,  3.4100e-08,  5.2812e-09,  ...,  2.8471e-08,\n",
       "          5.4647e-07,  1.4115e-07],\n",
       "        [ 6.4606e-15,  1.9762e-16,  2.1503e-19,  ...,  6.1733e-16,\n",
       "          6.0634e-17,  1.4671e-19],\n",
       "        [ 4.0799e-22,  1.8735e-25,  6.0142e-30,  ...,  4.5725e-23,\n",
       "          1.3495e-26,  1.1338e-27],\n",
       "        [ 1.1408e-09,  3.7899e-10,  1.3188e-11,  ...,  1.0136e-09,\n",
       "          2.7631e-10,  5.6943e-10]])"
      ]
     },
     "execution_count": 16,
     "metadata": {},
     "output_type": "execute_result"
    }
   ],
   "source": [
    "X_repr.data"
   ]
  },
  {
   "cell_type": "code",
   "execution_count": 17,
   "metadata": {},
   "outputs": [
    {
     "data": {
      "text/plain": [
       "tensor([[-3.6037, -3.2529],\n",
       "        [ 2.9696, -5.0151],\n",
       "        [-9.4092, -1.0527],\n",
       "        [-4.0206,  8.4239],\n",
       "        [ 2.6497,  3.8800]])"
      ]
     },
     "execution_count": 17,
     "metadata": {},
     "output_type": "execute_result"
    }
   ],
   "source": [
    "mu"
   ]
  },
  {
   "cell_type": "code",
   "execution_count": null,
   "metadata": {
    "collapsed": true
   },
   "outputs": [],
   "source": []
  }
 ],
 "metadata": {
  "kernelspec": {
   "display_name": "Python [default]",
   "language": "python",
   "name": "python3"
  },
  "language_info": {
   "codemirror_mode": {
    "name": "ipython",
    "version": 3
   },
   "file_extension": ".py",
   "mimetype": "text/x-python",
   "name": "python",
   "nbconvert_exporter": "python",
   "pygments_lexer": "ipython3",
   "version": "3.6.1"
  }
 },
 "nbformat": 4,
 "nbformat_minor": 2
}
